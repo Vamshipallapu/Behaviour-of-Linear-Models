{
  "nbformat": 4,
  "nbformat_minor": 0,
  "metadata": {
    "kernelspec": {
      "display_name": "Python 3",
      "language": "python",
      "name": "python3"
    },
    "language_info": {
      "codemirror_mode": {
        "name": "ipython",
        "version": 3
      },
      "file_extension": ".py",
      "mimetype": "text/x-python",
      "name": "python",
      "nbconvert_exporter": "python",
      "pygments_lexer": "ipython3",
      "version": "3.6.8"
    },
    "colab": {
      "name": "8D_LR_SVM.ipynb",
      "provenance": []
    }
  },
  "cells": [
    {
      "cell_type": "markdown",
      "metadata": {
        "id": "86Tvnj5UblTy"
      },
      "source": [
        "## Task-D: Collinear features and their effect on linear models"
      ]
    },
    {
      "cell_type": "code",
      "metadata": {
        "id": "qn_eOn2EblT3"
      },
      "source": [
        "%matplotlib inline\n",
        "import warnings\n",
        "warnings.filterwarnings(\"ignore\")\n",
        "import pandas as pd\n",
        "import numpy as np\n",
        "from sklearn.datasets import load_iris\n",
        "from sklearn.linear_model import SGDClassifier\n",
        "from sklearn.model_selection import GridSearchCV\n",
        "import seaborn as sns\n",
        "import matplotlib.pyplot as plt"
      ],
      "execution_count": 18,
      "outputs": []
    },
    {
      "cell_type": "code",
      "metadata": {
        "id": "VMoYWIayblUB"
      },
      "source": [
        "data = pd.read_csv('task_d.csv')"
      ],
      "execution_count": 19,
      "outputs": []
    },
    {
      "cell_type": "code",
      "metadata": {
        "id": "RfStXG4tblUI",
        "outputId": "19fd1fbf-5b58-4ccb-92fc-7eda836e5131",
        "colab": {
          "base_uri": "https://localhost:8080/",
          "height": 206
        }
      },
      "source": [
        "data.head()"
      ],
      "execution_count": 20,
      "outputs": [
        {
          "output_type": "execute_result",
          "data": {
            "text/html": [
              "\n",
              "  <div id=\"df-da718436-c546-480f-9576-34a2f9de5ba6\">\n",
              "    <div class=\"colab-df-container\">\n",
              "      <div>\n",
              "<style scoped>\n",
              "    .dataframe tbody tr th:only-of-type {\n",
              "        vertical-align: middle;\n",
              "    }\n",
              "\n",
              "    .dataframe tbody tr th {\n",
              "        vertical-align: top;\n",
              "    }\n",
              "\n",
              "    .dataframe thead th {\n",
              "        text-align: right;\n",
              "    }\n",
              "</style>\n",
              "<table border=\"1\" class=\"dataframe\">\n",
              "  <thead>\n",
              "    <tr style=\"text-align: right;\">\n",
              "      <th></th>\n",
              "      <th>x</th>\n",
              "      <th>y</th>\n",
              "      <th>z</th>\n",
              "      <th>x*x</th>\n",
              "      <th>2*y</th>\n",
              "      <th>2*z+3*x*x</th>\n",
              "      <th>w</th>\n",
              "      <th>target</th>\n",
              "    </tr>\n",
              "  </thead>\n",
              "  <tbody>\n",
              "    <tr>\n",
              "      <th>0</th>\n",
              "      <td>-0.581066</td>\n",
              "      <td>0.841837</td>\n",
              "      <td>-1.012978</td>\n",
              "      <td>-0.604025</td>\n",
              "      <td>0.841837</td>\n",
              "      <td>-0.665927</td>\n",
              "      <td>-0.536277</td>\n",
              "      <td>0</td>\n",
              "    </tr>\n",
              "    <tr>\n",
              "      <th>1</th>\n",
              "      <td>-0.894309</td>\n",
              "      <td>-0.207835</td>\n",
              "      <td>-1.012978</td>\n",
              "      <td>-0.883052</td>\n",
              "      <td>-0.207835</td>\n",
              "      <td>-0.917054</td>\n",
              "      <td>-0.522364</td>\n",
              "      <td>0</td>\n",
              "    </tr>\n",
              "    <tr>\n",
              "      <th>2</th>\n",
              "      <td>-1.207552</td>\n",
              "      <td>0.212034</td>\n",
              "      <td>-1.082312</td>\n",
              "      <td>-1.150918</td>\n",
              "      <td>0.212034</td>\n",
              "      <td>-1.166507</td>\n",
              "      <td>0.205738</td>\n",
              "      <td>0</td>\n",
              "    </tr>\n",
              "    <tr>\n",
              "      <th>3</th>\n",
              "      <td>-1.364174</td>\n",
              "      <td>0.002099</td>\n",
              "      <td>-0.943643</td>\n",
              "      <td>-1.280666</td>\n",
              "      <td>0.002099</td>\n",
              "      <td>-1.266540</td>\n",
              "      <td>-0.665720</td>\n",
              "      <td>0</td>\n",
              "    </tr>\n",
              "    <tr>\n",
              "      <th>4</th>\n",
              "      <td>-0.737687</td>\n",
              "      <td>1.051772</td>\n",
              "      <td>-1.012978</td>\n",
              "      <td>-0.744934</td>\n",
              "      <td>1.051772</td>\n",
              "      <td>-0.792746</td>\n",
              "      <td>-0.735054</td>\n",
              "      <td>0</td>\n",
              "    </tr>\n",
              "  </tbody>\n",
              "</table>\n",
              "</div>\n",
              "      <button class=\"colab-df-convert\" onclick=\"convertToInteractive('df-da718436-c546-480f-9576-34a2f9de5ba6')\"\n",
              "              title=\"Convert this dataframe to an interactive table.\"\n",
              "              style=\"display:none;\">\n",
              "        \n",
              "  <svg xmlns=\"http://www.w3.org/2000/svg\" height=\"24px\"viewBox=\"0 0 24 24\"\n",
              "       width=\"24px\">\n",
              "    <path d=\"M0 0h24v24H0V0z\" fill=\"none\"/>\n",
              "    <path d=\"M18.56 5.44l.94 2.06.94-2.06 2.06-.94-2.06-.94-.94-2.06-.94 2.06-2.06.94zm-11 1L8.5 8.5l.94-2.06 2.06-.94-2.06-.94L8.5 2.5l-.94 2.06-2.06.94zm10 10l.94 2.06.94-2.06 2.06-.94-2.06-.94-.94-2.06-.94 2.06-2.06.94z\"/><path d=\"M17.41 7.96l-1.37-1.37c-.4-.4-.92-.59-1.43-.59-.52 0-1.04.2-1.43.59L10.3 9.45l-7.72 7.72c-.78.78-.78 2.05 0 2.83L4 21.41c.39.39.9.59 1.41.59.51 0 1.02-.2 1.41-.59l7.78-7.78 2.81-2.81c.8-.78.8-2.07 0-2.86zM5.41 20L4 18.59l7.72-7.72 1.47 1.35L5.41 20z\"/>\n",
              "  </svg>\n",
              "      </button>\n",
              "      \n",
              "  <style>\n",
              "    .colab-df-container {\n",
              "      display:flex;\n",
              "      flex-wrap:wrap;\n",
              "      gap: 12px;\n",
              "    }\n",
              "\n",
              "    .colab-df-convert {\n",
              "      background-color: #E8F0FE;\n",
              "      border: none;\n",
              "      border-radius: 50%;\n",
              "      cursor: pointer;\n",
              "      display: none;\n",
              "      fill: #1967D2;\n",
              "      height: 32px;\n",
              "      padding: 0 0 0 0;\n",
              "      width: 32px;\n",
              "    }\n",
              "\n",
              "    .colab-df-convert:hover {\n",
              "      background-color: #E2EBFA;\n",
              "      box-shadow: 0px 1px 2px rgba(60, 64, 67, 0.3), 0px 1px 3px 1px rgba(60, 64, 67, 0.15);\n",
              "      fill: #174EA6;\n",
              "    }\n",
              "\n",
              "    [theme=dark] .colab-df-convert {\n",
              "      background-color: #3B4455;\n",
              "      fill: #D2E3FC;\n",
              "    }\n",
              "\n",
              "    [theme=dark] .colab-df-convert:hover {\n",
              "      background-color: #434B5C;\n",
              "      box-shadow: 0px 1px 3px 1px rgba(0, 0, 0, 0.15);\n",
              "      filter: drop-shadow(0px 1px 2px rgba(0, 0, 0, 0.3));\n",
              "      fill: #FFFFFF;\n",
              "    }\n",
              "  </style>\n",
              "\n",
              "      <script>\n",
              "        const buttonEl =\n",
              "          document.querySelector('#df-da718436-c546-480f-9576-34a2f9de5ba6 button.colab-df-convert');\n",
              "        buttonEl.style.display =\n",
              "          google.colab.kernel.accessAllowed ? 'block' : 'none';\n",
              "\n",
              "        async function convertToInteractive(key) {\n",
              "          const element = document.querySelector('#df-da718436-c546-480f-9576-34a2f9de5ba6');\n",
              "          const dataTable =\n",
              "            await google.colab.kernel.invokeFunction('convertToInteractive',\n",
              "                                                     [key], {});\n",
              "          if (!dataTable) return;\n",
              "\n",
              "          const docLinkHtml = 'Like what you see? Visit the ' +\n",
              "            '<a target=\"_blank\" href=https://colab.research.google.com/notebooks/data_table.ipynb>data table notebook</a>'\n",
              "            + ' to learn more about interactive tables.';\n",
              "          element.innerHTML = '';\n",
              "          dataTable['output_type'] = 'display_data';\n",
              "          await google.colab.output.renderOutput(dataTable, element);\n",
              "          const docLink = document.createElement('div');\n",
              "          docLink.innerHTML = docLinkHtml;\n",
              "          element.appendChild(docLink);\n",
              "        }\n",
              "      </script>\n",
              "    </div>\n",
              "  </div>\n",
              "  "
            ],
            "text/plain": [
              "          x         y         z  ...  2*z+3*x*x         w  target\n",
              "0 -0.581066  0.841837 -1.012978  ...  -0.665927 -0.536277       0\n",
              "1 -0.894309 -0.207835 -1.012978  ...  -0.917054 -0.522364       0\n",
              "2 -1.207552  0.212034 -1.082312  ...  -1.166507  0.205738       0\n",
              "3 -1.364174  0.002099 -0.943643  ...  -1.266540 -0.665720       0\n",
              "4 -0.737687  1.051772 -1.012978  ...  -0.792746 -0.735054       0\n",
              "\n",
              "[5 rows x 8 columns]"
            ]
          },
          "metadata": {},
          "execution_count": 20
        }
      ]
    },
    {
      "cell_type": "code",
      "metadata": {
        "id": "JIIuomCkblUP"
      },
      "source": [
        "X = data.drop(['target'], axis=1).values\n",
        "Y = data['target'].values"
      ],
      "execution_count": 21,
      "outputs": []
    },
    {
      "cell_type": "markdown",
      "metadata": {
        "id": "Ydm98u3EblUU"
      },
      "source": [
        "### Doing perturbation test to check the presence of collinearity  \n",
        "\n",
        "#### Task: 1 Logistic Regression\n",
        "<pre>\n",
        "\n",
        "\n",
        "1. <b>Finding the Correlation between the features</b>\n",
        "    a. check the correlation between the features\n",
        "    b. plot heat map of correlation matrix using seaborn heatmap\n",
        "2. <b>Finding the best model for the given data</b>\n",
        "    a. Train Logistic regression on data(X,Y) that we have created in the above cell\n",
        "    b. Find the best hyper prameter alpha with hyper parameter tuning using k-fold cross validation (grid search CV or         \n",
        "    random search CV make sure you choose the alpha in log space)\n",
        "    c. Creat a new Logistic regression with the best alpha\n",
        "    (search for how to get the best hyper parameter value), name the best model as 'best_model'\n",
        "    \n",
        "3. <b>Getting the weights with the original data</b>\n",
        "    a. train the 'best_model' with X, Y\n",
        "    b. Check the accuracy of the model 'best_model_accuracy'\n",
        "    c. Get the weights W using best_model.coef_\n",
        "\n",
        "4. <b>Modifying original data</b>\n",
        "    a. Add a noise(order of 10^-2) to each element of X \n",
        "    and get the new data set X' (X' = X + e)\n",
        "    b. Train the same 'best_model' with data (X', Y)\n",
        "    c. Check the accuracy of the model 'best_model_accuracy_edited'\n",
        "    d. Get the weights W' using best_model.coef_\n",
        "    \n",
        "5. <b> Checking deviations in metric and weights </b>\n",
        "    a. find the difference between 'best_model_accuracy_edited' and 'best_model_accuracy'\n",
        "    b. find the absolute change between each value of W and W' ==> |(W-W')|\n",
        "    c. print the top 4 features which have higher % change in weights \n",
        "    compare to the other feature\n",
        "\n",
        "</pre>\n",
        "\n",
        "#### Task: 2 Linear SVM\n",
        "\n",
        "<pre>\n",
        "1. Do the same steps (2, 3, 4, 5) we have done in the above task 1.\n",
        "</pre>\n",
        "\n",
        "<strong><font color='red'>Do write the observations based on the results you get from the deviations of weights in both Logistic Regression and linear SVM</font></strong>"
      ]
    },
    {
      "cell_type": "code",
      "metadata": {
        "id": "Lai8wXU1pmSb"
      },
      "source": [
        "data=pd.read_csv('task_d.csv')\n",
        "\n",
        "X=data.drop(['target'],axis=1)\n",
        "y=data['target']"
      ],
      "execution_count": 22,
      "outputs": []
    },
    {
      "cell_type": "code",
      "source": [
        "import seaborn as sns\n",
        "\n",
        "sns.heatmap(X.corr())"
      ],
      "metadata": {
        "id": "qIdJoYgbkNMU",
        "outputId": "7b7e31db-5832-40d2-b526-3630118086b1",
        "colab": {
          "base_uri": "https://localhost:8080/",
          "height": 287
        }
      },
      "execution_count": 23,
      "outputs": [
        {
          "output_type": "execute_result",
          "data": {
            "text/plain": [
              "<matplotlib.axes._subplots.AxesSubplot at 0x7f7485561c90>"
            ]
          },
          "metadata": {},
          "execution_count": 23
        },
        {
          "output_type": "display_data",
          "data": {
            "image/png": "[encoded data removed]",
            "text/plain": [
              "<Figure size 432x288 with 2 Axes>"
            ]
          },
          "metadata": {
            "needs_background": "light"
          }
        }
      ]
    },
    {
      "cell_type": "markdown",
      "source": [
        "Lighter colour==>more positive Correlation\n",
        "Darker colour==> more negative correlation"
      ],
      "metadata": {
        "id": "a17kHgV2kY_P"
      }
    },
    {
      "cell_type": "markdown",
      "source": [
        "Logistic Regression"
      ],
      "metadata": {
        "id": "n7fPXmTSko7D"
      }
    },
    {
      "cell_type": "code",
      "source": [
        "from sklearn.model_selection import GridSearchCV\n",
        "from sklearn.linear_model import LogisticRegression\n",
        "\n",
        "\n",
        "grid_search = GridSearchCV(\n",
        "    \n",
        "    LogisticRegression(),\n",
        "    {'C': [0.0001, 0.001, 0.01, 0.1, 1, 10, 100]},\n",
        "    n_jobs = -1,\n",
        "    cv=5,\n",
        ")\n",
        "\n",
        "grid_search.fit(X, y)\n",
        "grid_search.best_params_"
      ],
      "metadata": {
        "id": "FpKNWEOwkTxG",
        "outputId": "002bb241-393e-43ee-bc84-e92542ce8857",
        "colab": {
          "base_uri": "https://localhost:8080/"
        }
      },
      "execution_count": 25,
      "outputs": [
        {
          "output_type": "execute_result",
          "data": {
            "text/plain": [
              "{'C': 0.0001}"
            ]
          },
          "metadata": {},
          "execution_count": 25
        }
      ]
    },
    {
      "cell_type": "code",
      "source": [
        "from sklearn.metrics import accuracy_score\n",
        "\n",
        "log_reg=LogisticRegression(C=0.0001)\n",
        "\n",
        "log_reg.fit(X,y)\n",
        "preds=log_reg.predict(X)\n",
        "print(f'accuracy:{accuracy_score(y,preds)}')\n",
        "log_reg.coef_"
      ],
      "metadata": {
        "id": "XwBSIoKGo9YZ",
        "outputId": "2087da10-b42d-4e28-c0c7-e4fc76ca4e1f",
        "colab": {
          "base_uri": "https://localhost:8080/"
        }
      },
      "execution_count": 28,
      "outputs": [
        {
          "output_type": "stream",
          "name": "stdout",
          "text": [
            "accuracy:1.0\n"
          ]
        },
        {
          "output_type": "execute_result",
          "data": {
            "text/plain": [
              "array([[ 0.0035963 , -0.00341973,  0.00479983,  0.00355269, -0.00341973,\n",
              "         0.00377695,  0.00316971]])"
            ]
          },
          "metadata": {},
          "execution_count": 28
        }
      ]
    },
    {
      "cell_type": "markdown",
      "source": [
        "The Model is Getting Overfit"
      ],
      "metadata": {
        "id": "p8d0Beg6pl_D"
      }
    },
    {
      "cell_type": "code",
      "source": [
        "X_=X+np.random.normal(-1,1,X.shape)\n"
      ],
      "metadata": {
        "id": "56lvZfM8phAD"
      },
      "execution_count": 29,
      "outputs": []
    },
    {
      "cell_type": "code",
      "source": [
        "log_reg_perturbed=LogisticRegression(C=0.001)\n",
        "log_reg_perturbed.fit(X_,y)\n",
        "preds=log_reg_perturbed.predict(X_)\n",
        "print(f'accuracy:{accuracy_score(y,preds)}')\n",
        "log_reg_perturbed.coef_"
      ],
      "metadata": {
        "id": "tz26CuqKpusm",
        "outputId": "5a58d131-c885-4834-cea4-643ae2ab03ca",
        "colab": {
          "base_uri": "https://localhost:8080/"
        }
      },
      "execution_count": 30,
      "outputs": [
        {
          "output_type": "stream",
          "name": "stdout",
          "text": [
            "accuracy:0.98\n"
          ]
        },
        {
          "output_type": "execute_result",
          "data": {
            "text/plain": [
              "array([[ 0.03230513, -0.02952848,  0.04699423,  0.03662661, -0.03704956,\n",
              "         0.03360366,  0.02040025]])"
            ]
          },
          "metadata": {},
          "execution_count": 30
        }
      ]
    },
    {
      "cell_type": "markdown",
      "source": [
        "The Variance Got Reduced"
      ],
      "metadata": {
        "id": "RDnbVtw2qLsm"
      }
    },
    {
      "cell_type": "code",
      "source": [
        "(log_reg.coef_ - log_reg_perturbed.coef_)"
      ],
      "metadata": {
        "id": "yR8TyWvmqIJC",
        "outputId": "9b7e8852-92bf-4907-9bd4-bf981735a825",
        "colab": {
          "base_uri": "https://localhost:8080/"
        }
      },
      "execution_count": 31,
      "outputs": [
        {
          "output_type": "execute_result",
          "data": {
            "text/plain": [
              "array([[-0.02870883,  0.02610875, -0.0421944 , -0.03307391,  0.03362983,\n",
              "        -0.02982671, -0.01723054]])"
            ]
          },
          "metadata": {},
          "execution_count": 31
        }
      ]
    },
    {
      "cell_type": "markdown",
      "source": [
        "**SVM**"
      ],
      "metadata": {
        "id": "eiBceYn1qs2M"
      }
    },
    {
      "cell_type": "code",
      "source": [
        "from sklearn.svm import SVC\n",
        "grid_search=GridSearchCV(\n",
        "    SVC(kernel='linear'),\n",
        "    {'C':[0.0001,0.001,0.01,0.1,1,10,100]},\n",
        "    n_jobs=-1,\n",
        "    cv=5\n",
        ")\n",
        "\n",
        "grid_search.fit(X,y)\n",
        "\n",
        "grid_search.best_params_"
      ],
      "metadata": {
        "id": "QRcYXEZCqpBq",
        "outputId": "9cf5d3f9-5c4e-4ae9-f9c6-c91a592a191d",
        "colab": {
          "base_uri": "https://localhost:8080/"
        }
      },
      "execution_count": 34,
      "outputs": [
        {
          "output_type": "execute_result",
          "data": {
            "text/plain": [
              "{'C': 0.01}"
            ]
          },
          "metadata": {},
          "execution_count": 34
        }
      ]
    },
    {
      "cell_type": "code",
      "source": [
        "svc=SVC(C=0.01,kernel='linear')\n",
        "\n",
        "svc.fit(X,y)\n",
        "preds=svc.predict(X)\n",
        "print(f'accuracy:{accuracy_score(y,preds)}')\n",
        "svc.coef_"
      ],
      "metadata": {
        "id": "KHOs83YOrZXA",
        "outputId": "df3638ac-1a25-4b4d-a232-483269edc7e0",
        "colab": {
          "base_uri": "https://localhost:8080/"
        }
      },
      "execution_count": 35,
      "outputs": [
        {
          "output_type": "stream",
          "name": "stdout",
          "text": [
            "accuracy:1.0\n"
          ]
        },
        {
          "output_type": "execute_result",
          "data": {
            "text/plain": [
              "array([[ 0.16231443, -0.21809058,  0.35982752,  0.15193189, -0.21809058,\n",
              "         0.18018286,  0.1470533 ]])"
            ]
          },
          "metadata": {},
          "execution_count": 35
        }
      ]
    },
    {
      "cell_type": "code",
      "source": [
        "svc_perturbed=SVC(C=0.01,kernel='linear')\n",
        "svc_perturbed.fit(X_,y)\n",
        "preds=svc_perturbed.predict(X_)\n",
        "print(f'accuracy:{accuracy_score(y,preds)}')\n",
        "svc_perturbed.coef_"
      ],
      "metadata": {
        "id": "Zent-b39rtHZ",
        "outputId": "c98bb3a6-871d-459e-affe-934fad927110",
        "colab": {
          "base_uri": "https://localhost:8080/"
        }
      },
      "execution_count": 36,
      "outputs": [
        {
          "output_type": "stream",
          "name": "stdout",
          "text": [
            "accuracy:0.96\n"
          ]
        },
        {
          "output_type": "execute_result",
          "data": {
            "text/plain": [
              "array([[ 0.15635294, -0.15637117,  0.24667513,  0.18785588, -0.27050807,\n",
              "         0.18970349,  0.09640801]])"
            ]
          },
          "metadata": {},
          "execution_count": 36
        }
      ]
    },
    {
      "cell_type": "code",
      "source": [
        "(svc.coef_-svc_perturbed.coef_)"
      ],
      "metadata": {
        "id": "W1n5nCFcsF3k",
        "outputId": "d3063c8b-efa9-4b08-9704-903e5d276e3e",
        "colab": {
          "base_uri": "https://localhost:8080/"
        }
      },
      "execution_count": 37,
      "outputs": [
        {
          "output_type": "execute_result",
          "data": {
            "text/plain": [
              "array([[ 0.00596149, -0.06171942,  0.11315239, -0.03592399,  0.05241749,\n",
              "        -0.00952062,  0.05064529]])"
            ]
          },
          "metadata": {},
          "execution_count": 37
        }
      ]
    }
  ]
}